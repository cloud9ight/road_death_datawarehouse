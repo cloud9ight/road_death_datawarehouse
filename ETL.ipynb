{
 "cells": [
  {
   "cell_type": "code",
   "execution_count": 2,
   "metadata": {},
   "outputs": [],
   "source": [
    "import pandas as pd\n",
    "import numpy as np"
   ]
  },
  {
   "cell_type": "code",
   "execution_count": 8,
   "metadata": {},
   "outputs": [],
   "source": [
    "crash_df = pd.read_excel(\n",
    "    'bitre_fatal_crashes_dec2024.xlsx', \n",
    "    sheet_name='BITRE_Fatal_Crash',\n",
    "    skiprows=4\n",
    ")"
   ]
  },
  {
   "cell_type": "code",
   "execution_count": 9,
   "metadata": {},
   "outputs": [
    {
     "name": "stdout",
     "output_type": "stream",
     "text": [
      "SA4 Name 2021                    41117\n",
      "National LGA Name 2021           41116\n",
      "National Road Type               41115\n",
      "National Remoteness Areas        40811\n",
      "Time of Day                         40\n",
      "Time                                39\n",
      "Day of week                         12\n",
      "Speed Limit                          0\n",
      "Easter Period                        0\n",
      "Christmas Period                     0\n",
      "Crash ID                             0\n",
      "State                                0\n",
      "Heavy Rigid Truck Involvement        0\n",
      "Bus \\nInvolvement                    0\n",
      "Number Fatalities                    0\n",
      "Crash Type                           0\n",
      "Dayweek                              0\n",
      "Year                                 0\n",
      "Month                                0\n",
      "Articulated Truck Involvement        0\n",
      "dtype: int64\n"
     ]
    }
   ],
   "source": [
    "# Define a function to count missing values in a Series\n",
    "def count_missing(series):\n",
    "    # Treat actual NaN as missing\n",
    "    mask = series.isna()\n",
    "    # Treat blank strings, 'Unknown', 'Undetermined' as missing\n",
    "    mask |= series.astype(str).str.strip().isin(['', 'Unknown', 'Undetermined'])\n",
    "    # Treat numeric -9 as missing\n",
    "    if pd.api.types.is_numeric_dtype(series):\n",
    "        mask |= (series == -9)\n",
    "    return mask.sum()\n",
    "\n",
    "# Apply to every column\n",
    "missing_counts = crash_df.apply(count_missing)\n",
    "\n",
    "# Print counts per column\n",
    "print(missing_counts.sort_values(ascending=False))\n"
   ]
  },
  {
   "cell_type": "code",
   "execution_count": 12,
   "metadata": {},
   "outputs": [
    {
     "name": "stdout",
     "output_type": "stream",
     "text": [
      "National Road Type               46136\n",
      "SA4 Name 2021                    45851\n",
      "National LGA Name 2021           45849\n",
      "National Remoteness Areas        45520\n",
      "Age                                116\n",
      "Time of day                         44\n",
      "Time                                43\n",
      "Day of week                         13\n",
      "Road User                           11\n",
      "Articulated Truck Involvement        0\n",
      "Speed Limit                          0\n",
      "State                                0\n",
      "Gender                               0\n",
      "Heavy Rigid Truck Involvement        0\n",
      "Bus Involvement                      0\n",
      "Crash Type                           0\n",
      "Dayweek                              0\n",
      "Year                                 0\n",
      "Christmas Period                     0\n",
      "Easter Period                        0\n",
      "Age Group                            0\n",
      "Month                                0\n",
      "Crash ID                             0\n",
      "dtype: int64\n"
     ]
    }
   ],
   "source": [
    "fatalities_df = pd.read_excel(\n",
    "    'bitre_fatalities_dec2024.xlsx', \n",
    "    sheet_name='BITRE_Fatality',\n",
    "    skiprows=4\n",
    ")\n",
    "\n",
    "missing_counts_fatalities = fatalities_df.apply(count_missing)\n",
    "\n",
    "# Print all na counts per column\n",
    "print(missing_counts_fatalities.sort_values(ascending=False))"
   ]
  },
  {
   "cell_type": "code",
   "execution_count": null,
   "metadata": {},
   "outputs": [],
   "source": []
  }
 ],
 "metadata": {
  "kernelspec": {
   "display_name": "venv",
   "language": "python",
   "name": "python3"
  },
  "language_info": {
   "codemirror_mode": {
    "name": "ipython",
    "version": 3
   },
   "file_extension": ".py",
   "mimetype": "text/x-python",
   "name": "python",
   "nbconvert_exporter": "python",
   "pygments_lexer": "ipython3",
   "version": "3.12.9"
  }
 },
 "nbformat": 4,
 "nbformat_minor": 2
}
