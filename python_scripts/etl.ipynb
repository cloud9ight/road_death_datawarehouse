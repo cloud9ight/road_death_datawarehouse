{
 "cells": [
  {
   "cell_type": "code",
   "execution_count": 6,
   "metadata": {},
   "outputs": [],
   "source": [
    "import pandas as pd\n",
    "import numpy as np\n",
    "\n",
    "# Load the XLSX file into a DataFrame\n",
    "df = pd.read_excel('fatal_crashes.xlsx')"
   ]
  },
  {
   "cell_type": "code",
   "execution_count": 7,
   "metadata": {},
   "outputs": [],
   "source": [
    "# Replace -9 with NaN to mark missing or unknown values\n",
    "df.replace(-9, np.nan, inplace=True)"
   ]
  },
  {
   "cell_type": "code",
   "execution_count": 8,
   "metadata": {},
   "outputs": [
    {
     "name": "stdout",
     "output_type": "stream",
     "text": [
      "Number of duplicate rows: 0\n"
     ]
    }
   ],
   "source": [
    "# Check for duplicate rows\n",
    "duplicates = df.duplicated().sum()\n",
    "print(\"Number of duplicate rows:\", duplicates)"
   ]
  },
  {
   "cell_type": "code",
   "execution_count": 14,
   "metadata": {},
   "outputs": [
    {
     "name": "stdout",
     "output_type": "stream",
     "text": [
      "Statistics output has been saved to 'statistics_output.txt'.\n"
     ]
    }
   ],
   "source": [
    "# Columns to exclude from the analysis\n",
    "exclude_columns = ['Crash ID', 'Time', 'SA4 Name 2021', 'National LGA Name 2021', ]\n",
    "\n",
    "# Open a file to write the output\n",
    "with open('statistics_output.txt', 'w', encoding='utf-8') as f:\n",
    "    # Iterate over each column in the DataFrame\n",
    "    for col in df.columns:\n",
    "        # Skip columns listed in exclude_columns\n",
    "        if col in exclude_columns:\n",
    "            continue\n",
    "        \n",
    "        f.write(f\"=== {col} ===\\n\")\n",
    "        \n",
    "        # Write value counts (including NaN) for the column\n",
    "        counts = df[col].value_counts(dropna=False).to_string()\n",
    "        f.write(counts + \"\\n\\n\")\n",
    "        \n",
    "        f.write(\"\\n\")\n",
    "        \n",
    "print(\"Statistics output has been saved to 'statistics_output.txt'.\")"
   ]
  }
 ],
 "metadata": {
  "kernelspec": {
   "display_name": "venv",
   "language": "python",
   "name": "python3"
  },
  "language_info": {
   "codemirror_mode": {
    "name": "ipython",
    "version": 3
   },
   "file_extension": ".py",
   "mimetype": "text/x-python",
   "name": "python",
   "nbconvert_exporter": "python",
   "pygments_lexer": "ipython3",
   "version": "3.12.5"
  }
 },
 "nbformat": 4,
 "nbformat_minor": 2
}
