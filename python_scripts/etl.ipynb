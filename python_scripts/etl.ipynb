{
 "cells": [
  {
   "cell_type": "code",
   "execution_count": 1,
   "metadata": {},
   "outputs": [],
   "source": [
    "import pandas as pd\n",
    "import numpy as np\n",
    "\n",
    "# Load the XLSX file into a DataFrame\n",
    "df = pd.read_excel('fatal_crashes.xlsx')"
   ]
  },
  {
   "cell_type": "code",
   "execution_count": 2,
   "metadata": {},
   "outputs": [],
   "source": [
    "# Replace -9 with NaN to mark missing or unknown values\n",
    "df.replace(-9, np.nan, inplace=True)"
   ]
  },
  {
   "cell_type": "code",
   "execution_count": 8,
   "metadata": {},
   "outputs": [
    {
     "name": "stdout",
     "output_type": "stream",
     "text": [
      "Number of duplicate rows: 0\n"
     ]
    }
   ],
   "source": [
    "# Check for duplicate rows\n",
    "duplicates = df.duplicated().sum()\n",
    "print(\"Number of duplicate rows:\", duplicates)"
   ]
  },
  {
   "cell_type": "code",
   "execution_count": 14,
   "metadata": {},
   "outputs": [
    {
     "name": "stdout",
     "output_type": "stream",
     "text": [
      "Statistics output has been saved to 'statistics_output.txt'.\n"
     ]
    }
   ],
   "source": [
    "# Columns to exclude from the analysis\n",
    "exclude_columns = ['Crash ID', 'Time', 'SA4 Name 2021', 'National LGA Name 2021', ]\n",
    "\n",
    "# Open a file to write the output\n",
    "with open('statistics_output.txt', 'w', encoding='utf-8') as f:\n",
    "    # Iterate over each column in the DataFrame\n",
    "    for col in df.columns:\n",
    "        # Skip columns listed in exclude_columns\n",
    "        if col in exclude_columns:\n",
    "            continue\n",
    "        \n",
    "        f.write(f\"=== {col} ===\\n\")\n",
    "        \n",
    "        # Write value counts (including NaN) for the column\n",
    "        counts = df[col].value_counts(dropna=False).to_string()\n",
    "        f.write(counts + \"\\n\\n\")\n",
    "        \n",
    "        f.write(\"\\n\")\n",
    "        \n",
    "print(\"Statistics output has been saved to 'statistics_output.txt'.\")"
   ]
  },
  {
   "cell_type": "code",
   "execution_count": 13,
   "metadata": {},
   "outputs": [],
   "source": [
    "import matplotlib.pyplot as plt\n",
    "import seaborn as sns\n",
    "\n",
    "# Create a figure and axes for subplots (3 rows, 2 columns)\n",
    "fig, axs = plt.subplots(4, 2, figsize=(15, 20))  # 4 rows, 2 columns to fit all 7 plots\n",
    "\n",
    "# 1. Accidents by Month\n",
    "monthly_stats = df.groupby(\"Month\")[\"Number Fatalities\"].agg([\"count\", \"sum\"])\n",
    "monthly_stats.columns = [\"Accident_Count\", \"Total_Fatalities\"]\n",
    "monthly_stats.plot(kind=\"bar\", ax=axs[0, 0], title=\"Accidents by Month\")\n",
    "axs[0, 0].set_xlabel(\"Month\")\n",
    "axs[0, 0].set_ylabel(\"Accident Count\")\n",
    "\n",
    "# 2. Accidents by Day of Week\n",
    "weekday_stats = df.groupby(\"Day of week\")[\"Number Fatalities\"].agg([\"count\", \"sum\"])\n",
    "weekday_stats.columns = [\"Accident_Count\", \"Total_Fatalities\"]\n",
    "weekday_stats.plot(kind=\"bar\", ax=axs[0, 1], title=\"Accidents by Day of the Week\")\n",
    "axs[0, 1].set_xlabel(\"Day of Week\")\n",
    "axs[0, 1].set_ylabel(\"Accident Count\")\n",
    "\n",
    "# 3. Accidents by Time of Day\n",
    "timeofday_stats = df.groupby(\"Time of Day\")[\"Number Fatalities\"].agg([\"count\", \"sum\"])\n",
    "timeofday_stats.columns = [\"Accident_Count\", \"Total_Fatalities\"]\n",
    "timeofday_stats.plot(kind=\"bar\", ax=axs[1, 0], title=\"Accidents by Time of Day\")\n",
    "axs[1, 0].set_xlabel(\"Time of Day\")\n",
    "axs[1, 0].set_ylabel(\"Accident Count\")\n",
    "\n",
    "# 4. Accidents by LGA (Top 10 LGAs)\n",
    "lga_stats = df.groupby(\"National LGA Name 2021\")[\"Number Fatalities\"].agg([\"count\", \"sum\"]).sort_values(by=\"count\", ascending=False).head(10)\n",
    "lga_stats.columns = [\"Accident_Count\", \"Total_Fatalities\"]\n",
    "lga_stats.plot(kind=\"bar\", ax=axs[1, 1], title=\"Top 10 LGAs with the Most Accidents\")\n",
    "axs[1, 1].set_xlabel(\"LGA\")\n",
    "axs[1, 1].set_ylabel(\"Accident Count\")\n",
    "\n",
    "# 5. Accidents by Road Type\n",
    "roadtype_stats = df.groupby(\"National Road Type\")[\"Number Fatalities\"].agg([\"count\", \"sum\"])\n",
    "roadtype_stats.columns = [\"Accident_Count\", \"Total_Fatalities\"]\n",
    "roadtype_stats.plot(kind=\"bar\", ax=axs[2, 0], title=\"Accidents by Road Type\")\n",
    "axs[2, 0].set_xlabel(\"Road Type\")\n",
    "axs[2, 0].set_ylabel(\"Accident Count\")\n",
    "\n",
    "# 6. Accidents by Speed Limit\n",
    "speed_stats = df.groupby(\"Speed Limit\")[\"Number Fatalities\"].agg([\"count\", \"sum\"])\n",
    "speed_stats.columns = [\"Accident_Count\", \"Total_Fatalities\"]\n",
    "speed_stats.plot(kind=\"line\", ax=axs[2, 1], title=\"Accidents by Speed Limit\")\n",
    "axs[2, 1].set_xlabel(\"Speed Limit\")\n",
    "axs[2, 1].set_ylabel(\"Accident Count\")\n",
    "\n",
    "# 7. Accidents by Vehicle Involvement\n",
    "vehicle_stats = df[[\"Bus \\nInvolvement\", \"Heavy Rigid Truck Involvement\", \"Articulated Truck Involvement\", \"Number Fatalities\"]].melt(id_vars=[\"Number Fatalities\"], var_name=\"Vehicle Type\", value_name=\"Involved\")\n",
    "vehicle_stats = vehicle_stats[vehicle_stats[\"Involved\"] == \"Yes\"].groupby(\"Vehicle Type\")[\"Number Fatalities\"].agg([\"count\", \"sum\"])\n",
    "vehicle_stats.columns = [\"Accident_Count\", \"Total_Fatalities\"]\n",
    "vehicle_stats.plot(kind=\"bar\", ax=axs[3, 0], title=\"Accidents Involving Buses and Trucks\")\n",
    "axs[3, 0].set_xlabel(\"Vehicle Type\")\n",
    "axs[3, 0].set_ylabel(\"Accident Count\")\n",
    "\n",
    "# Adjust layout to avoid overlap\n",
    "plt.tight_layout()\n",
    "\n",
    "# Save the figure with all the plots into a single file\n",
    "plt.savefig(\"all_accidents_statistics_with_vehicle_involvement.png\")\n",
    "plt.close()\n"
   ]
  },
  {
   "cell_type": "code",
   "execution_count": 15,
   "metadata": {},
   "outputs": [
    {
     "name": "stdout",
     "output_type": "stream",
     "text": [
      "\n",
      "===== Top 10 LGAs with the Most Accidents =====\n",
      "                        Accident_Count  Total_Fatalities\n",
      "National LGA Name 2021                                  \n",
      "Unknown                           1538              1676\n",
      "Brisbane                           198               205\n",
      "Moreton Bay                        129               138\n",
      "Gold Coast                         127               138\n",
      "Central Coast                      114               122\n",
      "Sunshine Coast                     108               112\n",
      "Logan                              105               112\n",
      "Bundaberg                           82                96\n",
      "Toowoomba                           81                91\n",
      "Mid-Coast                           79                86\n"
     ]
    }
   ],
   "source": [
    "# Statistics by Local Government Area (Top 10 LGAs)\n",
    "lga_stats = df.groupby(\"National LGA Name 2021\")[\"Number Fatalities\"].agg([\"count\", \"sum\"]).sort_values(by=\"count\", ascending=False).head(10)\n",
    "lga_stats.columns = [\"Accident_Count\", \"Total_Fatalities\"]\n",
    "print(\"\\n===== Top 10 LGAs with the Most Accidents =====\")\n",
    "print(lga_stats)"
   ]
  }
 ],
 "metadata": {
  "kernelspec": {
   "display_name": "venv",
   "language": "python",
   "name": "python3"
  },
  "language_info": {
   "codemirror_mode": {
    "name": "ipython",
    "version": 3
   },
   "file_extension": ".py",
   "mimetype": "text/x-python",
   "name": "python",
   "nbconvert_exporter": "python",
   "pygments_lexer": "ipython3",
   "version": "3.12.5"
  }
 },
 "nbformat": 4,
 "nbformat_minor": 2
}
